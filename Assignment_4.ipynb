{
  "nbformat": 4,
  "nbformat_minor": 0,
  "metadata": {
    "colab": {
      "provenance": [],
      "authorship_tag": "ABX9TyNyKMgJ2vPE17fMXPB5ceUs",
      "include_colab_link": true
    },
    "kernelspec": {
      "name": "python3",
      "display_name": "Python 3"
    },
    "language_info": {
      "name": "python"
    }
  },
  "cells": [
    {
      "cell_type": "markdown",
      "metadata": {
        "id": "view-in-github",
        "colab_type": "text"
      },
      "source": [
        "<a href=\"https://colab.research.google.com/github/vmittal231/cognitive-computing-assignment/blob/main/Assignment_4.ipynb\" target=\"_parent\"><img src=\"https://colab.research.google.com/assets/colab-badge.svg\" alt=\"Open In Colab\"/></a>"
      ]
    },
    {
      "cell_type": "markdown",
      "source": [
        "Question 1:"
      ],
      "metadata": {
        "id": "sMlRy-E3abse"
      }
    },
    {
      "cell_type": "code",
      "source": [
        "import numpy as np\n",
        "a=np.array([2,4,6,8,9])\n",
        "\n",
        "# a)\n",
        "for i in range(0,5):\n",
        "  a[i]=a[i]+2\n",
        "print(a)\n",
        "\n",
        "# b)\n",
        "for i in range(0,5):\n",
        "  a[i]=a[i]*3\n",
        "print(a)\n",
        "\n",
        "# c)\n",
        "for i in range(0,5):\n",
        "  a[i]=a[i]/2\n",
        "print(a)"
      ],
      "metadata": {
        "colab": {
          "base_uri": "https://localhost:8080/"
        },
        "id": "EyUse_STalns",
        "outputId": "d5a0e3e5-df9b-429f-9c28-16d314f5e285"
      },
      "execution_count": 1,
      "outputs": [
        {
          "output_type": "stream",
          "name": "stdout",
          "text": [
            "[ 4  6  8 10 11]\n",
            "[12 18 24 30 33]\n",
            "[ 6  9 12 15 16]\n"
          ]
        }
      ]
    },
    {
      "cell_type": "markdown",
      "source": [
        "Question 2a:"
      ],
      "metadata": {
        "id": "lGO3uB38a29w"
      }
    },
    {
      "cell_type": "code",
      "source": [
        "import numpy as np\n",
        "a=np.array([1,2,3,6,4,5])\n",
        "a=a[::-1]\n",
        "print(a)"
      ],
      "metadata": {
        "colab": {
          "base_uri": "https://localhost:8080/"
        },
        "id": "fj1Xg15La7y4",
        "outputId": "9fef47e7-83d4-4c7c-ea50-bea230a3c8aa"
      },
      "execution_count": 2,
      "outputs": [
        {
          "output_type": "stream",
          "name": "stdout",
          "text": [
            "[5 4 6 3 2 1]\n"
          ]
        }
      ]
    },
    {
      "cell_type": "markdown",
      "source": [
        "Question 2b:"
      ],
      "metadata": {
        "id": "Y-cpp0ZdbD-1"
      }
    },
    {
      "cell_type": "code",
      "source": [
        "import numpy as np\n",
        "\n",
        "occurence=[]\n",
        "\n",
        "# i)\n",
        "x=np.array([1,2,3,4,5,1,2,1,1,1])\n",
        "for i in range(1,6):\n",
        "  count_occ=np.count_nonzero(x==i)\n",
        "  occurence.append(count_occ)\n",
        "\n",
        "max_occ=max(occurence)\n",
        "max_index=occurence.index(max_occ)\n",
        "\n",
        "print(f\"{max_index+1} occures most frequently with {max_occ} times occurrence\")\n",
        "\n",
        "# ii)\n",
        "y=np.array([1,1,1,2,3,4,2,4,3,3])"
      ],
      "metadata": {
        "colab": {
          "base_uri": "https://localhost:8080/"
        },
        "id": "ksPqBSrobGKZ",
        "outputId": "5f2c1ef1-a3c3-45c9-f387-33656c6b3bf6"
      },
      "execution_count": 4,
      "outputs": [
        {
          "output_type": "stream",
          "name": "stdout",
          "text": [
            "1 occures most frequently with 5 times occurrence\n"
          ]
        }
      ]
    },
    {
      "cell_type": "markdown",
      "source": [
        "Question 3:"
      ],
      "metadata": {
        "id": "1V33EWcJbmSJ"
      }
    },
    {
      "cell_type": "code",
      "source": [
        "import numpy as np\n",
        "arr=np.array([[10,20,30],[40,50,60],[70,80,90]])\n",
        "print(arr[0][1])\n",
        "print(arr[2][0])"
      ],
      "metadata": {
        "colab": {
          "base_uri": "https://localhost:8080/"
        },
        "id": "57PShYI7bqk9",
        "outputId": "51e85ebb-b46b-44d0-f201-95bfde6ffb8b"
      },
      "execution_count": 5,
      "outputs": [
        {
          "output_type": "stream",
          "name": "stdout",
          "text": [
            "20\n",
            "70\n"
          ]
        }
      ]
    },
    {
      "cell_type": "markdown",
      "source": [
        "Question 4:"
      ],
      "metadata": {
        "id": "iKgersIwcDpe"
      }
    },
    {
      "cell_type": "code",
      "source": [
        "import numpy as np\n",
        "vipin=np.linspace(10,100,25)\n",
        "print(vipin)\n",
        "print(vipin.ndim)\n",
        "print(vipin.shape)\n",
        "print(vipin.size)\n",
        "\n",
        "print(vipin.dtype)\n",
        "print(vipin.nbytes)\n",
        "print(vipin.reshape(5,5))"
      ],
      "metadata": {
        "colab": {
          "base_uri": "https://localhost:8080/"
        },
        "id": "Z8h_Sf0ScG0p",
        "outputId": "b6bfe643-26e6-496e-c485-b1777a1f4f94"
      },
      "execution_count": 6,
      "outputs": [
        {
          "output_type": "stream",
          "name": "stdout",
          "text": [
            "[ 10.    13.75  17.5   21.25  25.    28.75  32.5   36.25  40.    43.75\n",
            "  47.5   51.25  55.    58.75  62.5   66.25  70.    73.75  77.5   81.25\n",
            "  85.    88.75  92.5   96.25 100.  ]\n",
            "1\n",
            "(25,)\n",
            "25\n",
            "float64\n",
            "200\n",
            "[[ 10.    13.75  17.5   21.25  25.  ]\n",
            " [ 28.75  32.5   36.25  40.    43.75]\n",
            " [ 47.5   51.25  55.    58.75  62.5 ]\n",
            " [ 66.25  70.    73.75  77.5   81.25]\n",
            " [ 85.    88.75  92.5   96.25 100.  ]]\n"
          ]
        }
      ]
    },
    {
      "cell_type": "markdown",
      "source": [
        "Question 5:"
      ],
      "metadata": {
        "id": "Nzgge-_YcqoC"
      }
    },
    {
      "cell_type": "code",
      "source": [
        "import numpy as np\n",
        "ucs420_vipin=np.array([[10,20,30,40],[50,60,70,80],[90,15,20,35]])\n",
        "print(ucs420_vipin.mean())\n",
        "\n",
        "col_median = np.median(ucs420_vipin, axis=0)\n",
        "row_median = np.median(ucs420_vipin, axis=1)\n",
        "print(\"Column-wise median:\", col_median)\n",
        "print(\"Row-wise median:\", row_median)\n",
        "\n",
        "print(np.max(ucs420_vipin))\n",
        "print(np.min(ucs420_vipin))\n",
        "\n",
        "reshaped_ucs420_vipin=ucs420_vipin.reshape(4,3)\n",
        "print(reshaped_ucs420_vipin.reshape(4,3))\n",
        "\n",
        "resize_ucs420_vipin=np.resize(reshaped_ucs420_vipin,(2,3))\n",
        "print(resize_ucs420_vipin)\n"
      ],
      "metadata": {
        "colab": {
          "base_uri": "https://localhost:8080/"
        },
        "id": "kDFxkQyTcxCA",
        "outputId": "d8c5df3b-c930-41f4-b43c-5d03bcd9315f"
      },
      "execution_count": 8,
      "outputs": [
        {
          "output_type": "stream",
          "name": "stdout",
          "text": [
            "43.333333333333336\n",
            "Column-wise median: [50. 20. 30. 40.]\n",
            "Row-wise median: [25.  65.  27.5]\n",
            "90\n",
            "10\n",
            "[[10 20 30]\n",
            " [40 50 60]\n",
            " [70 80 90]\n",
            " [15 20 35]]\n",
            "[[10 20 30]\n",
            " [40 50 60]]\n"
          ]
        }
      ]
    }
  ]
}