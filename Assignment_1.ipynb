{
  "nbformat": 4,
  "nbformat_minor": 0,
  "metadata": {
    "colab": {
      "provenance": [],
      "authorship_tag": "ABX9TyMAOY/v4jDRU54HVWNV08Uz",
      "include_colab_link": true
    },
    "kernelspec": {
      "name": "python3",
      "display_name": "Python 3"
    },
    "language_info": {
      "name": "python"
    }
  },
  "cells": [
    {
      "cell_type": "markdown",
      "metadata": {
        "id": "view-in-github",
        "colab_type": "text"
      },
      "source": [
        "<a href=\"https://colab.research.google.com/github/vmittal231/cognitive-computing-assignment/blob/main/Untitled0.ipynb\" target=\"_parent\"><img src=\"https://colab.research.google.com/assets/colab-badge.svg\" alt=\"Open In Colab\"/></a>"
      ]
    },
    {
      "cell_type": "code",
      "execution_count": null,
      "metadata": {
        "id": "4eBOFrfJtiIg"
      },
      "outputs": [],
      "source": []
    },
    {
      "cell_type": "markdown",
      "source": [
        "Assingment 1.1"
      ],
      "metadata": {
        "id": "z6jm0UL_tlBq"
      }
    },
    {
      "cell_type": "code",
      "source": [
        "print(\"vipin kumar mittal\")\n",
        "print(\"vipin kumar mittal\")\n",
        "print(\"vipin kumar mittal\")"
      ],
      "metadata": {
        "colab": {
          "base_uri": "https://localhost:8080/"
        },
        "id": "yUhaU-8Ktpa9",
        "outputId": "6465208e-9bf6-411f-a676-ab545777966a"
      },
      "execution_count": 2,
      "outputs": [
        {
          "output_type": "stream",
          "name": "stdout",
          "text": [
            "vipin kumar mittal\n",
            "vipin kumar mittal\n",
            "vipin kumar mittal\n"
          ]
        }
      ]
    },
    {
      "cell_type": "markdown",
      "source": [],
      "metadata": {
        "id": "8gJDugeUu-IU"
      }
    },
    {
      "cell_type": "markdown",
      "source": [
        "Assignment 2.1"
      ],
      "metadata": {
        "id": "Ryp9Z9UTvDW_"
      }
    },
    {
      "cell_type": "code",
      "source": [
        "a = 27\n",
        "b = 86\n",
        "c = 98\n",
        "d = a+b+c\n",
        "print(a, \"+\", b, \"+\", c, \"+\", \"-->\", d)"
      ],
      "metadata": {
        "colab": {
          "base_uri": "https://localhost:8080/"
        },
        "id": "yjMEbBWuvOH6",
        "outputId": "a791bb9e-cebe-4fe9-a6d2-e0dcd24a67ab"
      },
      "execution_count": 6,
      "outputs": [
        {
          "output_type": "stream",
          "name": "stdout",
          "text": [
            "27 + 86 + 98 + --> 211\n"
          ]
        }
      ]
    },
    {
      "cell_type": "markdown",
      "source": [
        "Assignment 2.2"
      ],
      "metadata": {
        "id": "AjmCJ2gOwIXK"
      }
    },
    {
      "cell_type": "code",
      "source": [
        "a = \"vipin\"\n",
        "b = \" kumar\"\n",
        "c = \" mittal\"\n",
        "d = a+b+c\n",
        "print(a, \"+\", b, \"+\", c, \"-->\", d)"
      ],
      "metadata": {
        "colab": {
          "base_uri": "https://localhost:8080/"
        },
        "id": "L6Fci-HmwYvq",
        "outputId": "a6c90094-cf16-42e2-dacb-50cb88cc92ba"
      },
      "execution_count": 8,
      "outputs": [
        {
          "output_type": "stream",
          "name": "stdout",
          "text": [
            "vipin +  kumar +  mittal --> vipin kumar mittal\n"
          ]
        }
      ]
    },
    {
      "cell_type": "markdown",
      "source": [
        "Assignment 4.1"
      ],
      "metadata": {
        "id": "MB4ddejvw740"
      }
    },
    {
      "cell_type": "code",
      "source": [
        "for i in range(1,11):\n",
        "  print(\"7\", \"*\", i, \"=\", 7*i)\n",
        "print(\"\\n\")\n",
        "for i in range(1,11):\n",
        "  print(\"9\", \"*\", i, \"=\", 9*i)"
      ],
      "metadata": {
        "colab": {
          "base_uri": "https://localhost:8080/"
        },
        "id": "iCgNYvnzxHgR",
        "outputId": "64f31006-4d36-4e2e-87f9-cd1cddcf7757"
      },
      "execution_count": 11,
      "outputs": [
        {
          "output_type": "stream",
          "name": "stdout",
          "text": [
            "7 * 1 = 7\n",
            "7 * 2 = 14\n",
            "7 * 3 = 21\n",
            "7 * 4 = 28\n",
            "7 * 5 = 35\n",
            "7 * 6 = 42\n",
            "7 * 7 = 49\n",
            "7 * 8 = 56\n",
            "7 * 9 = 63\n",
            "7 * 10 = 70\n",
            "\n",
            "\n",
            "9 * 1 = 9\n",
            "9 * 2 = 18\n",
            "9 * 3 = 27\n",
            "9 * 4 = 36\n",
            "9 * 5 = 45\n",
            "9 * 6 = 54\n",
            "9 * 7 = 63\n",
            "9 * 8 = 72\n",
            "9 * 9 = 81\n",
            "9 * 10 = 90\n"
          ]
        }
      ]
    },
    {
      "cell_type": "markdown",
      "source": [
        "Assignment 4.2"
      ],
      "metadata": {
        "id": "tLOdJFXSyd0I"
      }
    },
    {
      "cell_type": "code",
      "source": [
        "n = int(input(\"enter the number: \"))\n",
        "for i in range(1,11):\n",
        "  print(n, \"*\", i, \"=\", n*i)"
      ],
      "metadata": {
        "colab": {
          "base_uri": "https://localhost:8080/"
        },
        "id": "rkaZgvD0yjuh",
        "outputId": "883030a0-a5f3-443d-f11f-fe4fc2ae3f57"
      },
      "execution_count": 12,
      "outputs": [
        {
          "output_type": "stream",
          "name": "stdout",
          "text": [
            "enter the number: 8\n",
            "8 * 1 = 8\n",
            "8 * 2 = 16\n",
            "8 * 3 = 24\n",
            "8 * 4 = 32\n",
            "8 * 5 = 40\n",
            "8 * 6 = 48\n",
            "8 * 7 = 56\n",
            "8 * 8 = 64\n",
            "8 * 9 = 72\n",
            "8 * 10 = 80\n"
          ]
        }
      ]
    },
    {
      "cell_type": "markdown",
      "source": [
        "Assignment 4.3"
      ],
      "metadata": {
        "id": "0m5CyoT6zGgw"
      }
    },
    {
      "cell_type": "code",
      "source": [
        "n = int(input(\"enter the number: \"))\n",
        "sum = 0\n",
        "for i in range(1,n+1):\n",
        "  sum = sum + i\n",
        "print(\"sum of n numbers: \", sum)"
      ],
      "metadata": {
        "colab": {
          "base_uri": "https://localhost:8080/"
        },
        "id": "5tXHUYT_zKEL",
        "outputId": "c30eb673-ff40-4291-9a51-715a7be35d17"
      },
      "execution_count": 18,
      "outputs": [
        {
          "output_type": "stream",
          "name": "stdout",
          "text": [
            "enter the number: 5\n",
            "sum of n numbers:  15\n"
          ]
        }
      ]
    },
    {
      "cell_type": "markdown",
      "source": [
        "Assignment 5.1"
      ],
      "metadata": {
        "id": "ZGVpaVXz0QIz"
      }
    },
    {
      "cell_type": "code",
      "source": [
        "a = int(input(\"enter number a: \"))\n",
        "b = int(input(\"enter number b: \"))\n",
        "c = int(input(\"enter number c: \"))\n",
        "print(\"maximum number is: \", max(a,b,c))"
      ],
      "metadata": {
        "colab": {
          "base_uri": "https://localhost:8080/"
        },
        "id": "8mR4lXPI0ZZF",
        "outputId": "7277cdd6-e2c4-45b5-c5b7-c49a9fcdd3e8"
      },
      "execution_count": 17,
      "outputs": [
        {
          "output_type": "stream",
          "name": "stdout",
          "text": [
            "enter number a: 26\n",
            "enter number b: 75\n",
            "enter number c: 77\n",
            "maximum number is:  77\n"
          ]
        }
      ]
    },
    {
      "cell_type": "markdown",
      "source": [
        "Assignment 5.2"
      ],
      "metadata": {
        "id": "ka0n4ssn2bq8"
      }
    },
    {
      "cell_type": "code",
      "source": [
        "n = int(input(\"enter number n: \"))\n",
        "sum = 0\n",
        "for i in range(1,n+1):\n",
        "  if i%63 == 0:\n",
        "    sum = sum + i\n",
        "print(\"sum of numbers divisible by 7 and 9: \", sum)"
      ],
      "metadata": {
        "colab": {
          "base_uri": "https://localhost:8080/"
        },
        "id": "_Ocu9D_w2gDL",
        "outputId": "2ecc5259-3fd1-409f-8f5a-39dc4b8a8d70"
      },
      "execution_count": 19,
      "outputs": [
        {
          "output_type": "stream",
          "name": "stdout",
          "text": [
            "enter number n: 63\n",
            "sum of numbers divisible by 7 and 9:  63\n"
          ]
        }
      ]
    },
    {
      "cell_type": "markdown",
      "source": [
        "Assignment 5.3"
      ],
      "metadata": {
        "id": "rD9P6APK3z0g"
      }
    },
    {
      "cell_type": "code",
      "source": [
        "n=int(input(\"Enter any number : \"))\n",
        "sum=0\n",
        "def isprime(i):\n",
        "  if i==1:\n",
        "    return False\n",
        "  for j in range(2,i):\n",
        "    if i%j==0:\n",
        "      return False\n",
        "  return True\n",
        "\n",
        "for i in range(1,n+1):\n",
        "  if isprime(i):\n",
        "    sum=sum+i\n",
        "\n",
        "print(\"Sum of prime numbers: \", sum)"
      ],
      "metadata": {
        "colab": {
          "base_uri": "https://localhost:8080/"
        },
        "id": "VToFcpyI366l",
        "outputId": "910c1c37-a156-448f-b217-376498facf8a"
      },
      "execution_count": 29,
      "outputs": [
        {
          "output_type": "stream",
          "name": "stdout",
          "text": [
            "Enter any number : 7\n",
            "Sum of prime numbers:  17\n"
          ]
        }
      ]
    },
    {
      "cell_type": "markdown",
      "source": [
        "Assignment 6.1"
      ],
      "metadata": {
        "id": "UhtnfbH5Bzpk"
      }
    },
    {
      "cell_type": "code",
      "source": [
        "n=int(input(\"Enter any number : \"))\n",
        "\n",
        "def oddSum(n):\n",
        "  sum = 0\n",
        "  for i in range(1,n+1):\n",
        "    if i%2 != 0:\n",
        "      sum  = sum + i\n",
        "  return sum\n",
        "print(\"sum of all odd numbers: \", oddSum(n))"
      ],
      "metadata": {
        "colab": {
          "base_uri": "https://localhost:8080/"
        },
        "id": "y_hKOvnjB5qn",
        "outputId": "e873b2c4-5e27-4e3f-8b63-b140013b9a6b"
      },
      "execution_count": 26,
      "outputs": [
        {
          "output_type": "stream",
          "name": "stdout",
          "text": [
            "Enter any number : 10\n",
            "sum of all odd numbers:  25\n"
          ]
        }
      ]
    },
    {
      "cell_type": "markdown",
      "source": [
        "Assignment 6.2"
      ],
      "metadata": {
        "id": "WVCqqEP2DyHR"
      }
    },
    {
      "cell_type": "code",
      "source": [
        "n=int(input(\"Enter any number : \"))\n",
        "def addPrime(n):\n",
        "  sum=0\n",
        "  def isprime(i):\n",
        "    if i==1:\n",
        "      return False\n",
        "    for j in range(2,i):\n",
        "      if i%j==0:\n",
        "        return False\n",
        "    return True\n",
        "\n",
        "  for i in range(1,n+1):\n",
        "    if isprime(i):\n",
        "      sum = sum + i\n",
        "  return sum\n",
        "\n",
        "print(\"Sum of prime numbers: \", addPrime(n))"
      ],
      "metadata": {
        "colab": {
          "base_uri": "https://localhost:8080/"
        },
        "id": "0PU6vTzhD04e",
        "outputId": "7a018d8a-0d3a-4b71-bd85-529bcca83ef5"
      },
      "execution_count": 31,
      "outputs": [
        {
          "output_type": "stream",
          "name": "stdout",
          "text": [
            "Enter any number : 34\n",
            "Sum of prime numbers:  160\n"
          ]
        }
      ]
    },
    {
      "cell_type": "markdown",
      "source": [],
      "metadata": {
        "id": "vD2XAXn1uoNb"
      }
    },
    {
      "cell_type": "markdown",
      "source": [],
      "metadata": {
        "id": "7ERN1oGLum19"
      }
    },
    {
      "cell_type": "markdown",
      "source": [],
      "metadata": {
        "id": "qggjviXut0Vp"
      }
    },
    {
      "cell_type": "markdown",
      "source": [],
      "metadata": {
        "id": "WzQXY2nXtitK"
      }
    }
  ]
}
