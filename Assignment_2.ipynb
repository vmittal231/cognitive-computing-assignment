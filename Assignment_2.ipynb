{
  "nbformat": 4,
  "nbformat_minor": 0,
  "metadata": {
    "colab": {
      "provenance": [],
      "authorship_tag": "ABX9TyNNdbI39vO+0199cU3xXtoJ",
      "include_colab_link": true
    },
    "kernelspec": {
      "name": "python3",
      "display_name": "Python 3"
    },
    "language_info": {
      "name": "python"
    }
  },
  "cells": [
    {
      "cell_type": "markdown",
      "metadata": {
        "id": "view-in-github",
        "colab_type": "text"
      },
      "source": [
        "<a href=\"https://colab.research.google.com/github/vmittal231/cognitive-computing-assignment/blob/main/Assignment_2.ipynb\" target=\"_parent\"><img src=\"https://colab.research.google.com/assets/colab-badge.svg\" alt=\"Open In Colab\"/></a>"
      ]
    },
    {
      "cell_type": "code",
      "execution_count": null,
      "metadata": {
        "id": "wzwcpOUozxP3"
      },
      "outputs": [],
      "source": []
    },
    {
      "cell_type": "markdown",
      "source": [
        "Question 1:"
      ],
      "metadata": {
        "id": "ppEerFR90kpV"
      }
    },
    {
      "cell_type": "code",
      "source": [
        "L=[10,20,30,40,50,60,70,80]\n",
        "\n",
        "#i.\n",
        "L.extend([200,300])\n",
        "print(L)\n",
        "\n",
        "#ii.\n",
        "L.remove(10)\n",
        "L.remove(30)\n",
        "print(L)\n",
        "\n",
        "#iii.\n",
        "L.sort()\n",
        "print(L)\n",
        "\n",
        "#iv.\n",
        "L.sort(reverse=True)\n",
        "print(L)"
      ],
      "metadata": {
        "colab": {
          "base_uri": "https://localhost:8080/"
        },
        "id": "H51GHLMY0rP-",
        "outputId": "1a4f23ad-f1de-4ddf-c294-32ac6e5a216b"
      },
      "execution_count": 1,
      "outputs": [
        {
          "output_type": "stream",
          "name": "stdout",
          "text": [
            "[10, 20, 30, 40, 50, 60, 70, 80, 200, 300]\n",
            "[20, 40, 50, 60, 70, 80, 200, 300]\n",
            "[20, 40, 50, 60, 70, 80, 200, 300]\n",
            "[300, 200, 80, 70, 60, 50, 40, 20]\n"
          ]
        }
      ]
    },
    {
      "cell_type": "markdown",
      "source": [
        "Question 2:"
      ],
      "metadata": {
        "id": "-bKOkE-M1J8G"
      }
    },
    {
      "cell_type": "code",
      "source": [
        "scores = (45,89.5,76,45.4,89,92,58,45)\n",
        "\n",
        "#i.\n",
        "max_item=max(scores)\n",
        "max_index=scores.index(max_item)\n",
        "print(f\"Maximum number is {max_item} at index {max_index}\")\n",
        "\n",
        "#ii.\n",
        "lowest_item=min(scores)\n",
        "count_item=scores.count(lowest_item)\n",
        "print(f\"Lowest number is {lowest_item} and it occurs {count_item} times\")\n",
        "\n",
        "#iii.\n",
        "new_list=list(scores[::-1])\n",
        "print(new_list)\n",
        "\n",
        "#iv.\n",
        "input_item=76\n",
        "if input_item in scores:\n",
        "  input_index=scores.index(input_item)\n",
        "  print(f\"Input item is present at index {input_index}\")\n",
        "else:\n",
        "  print(f\"Input item is absent\")"
      ],
      "metadata": {
        "colab": {
          "base_uri": "https://localhost:8080/"
        },
        "id": "9oihLxFG1MPo",
        "outputId": "b854b8a9-8c73-497c-cab5-426dd91204a3"
      },
      "execution_count": 2,
      "outputs": [
        {
          "output_type": "stream",
          "name": "stdout",
          "text": [
            "Maximum number is 92 at index 5\n",
            "Lowest number is 45 and it occurs 2 times\n",
            "[45, 58, 92, 89, 45.4, 76, 89.5, 45]\n",
            "Input item is present at index 2\n"
          ]
        }
      ]
    },
    {
      "cell_type": "markdown",
      "source": [
        "Question 3:"
      ],
      "metadata": {
        "id": "M5YYCLo51Tly"
      }
    },
    {
      "cell_type": "code",
      "source": [
        "import random\n",
        "random_number=[]\n",
        "for i in range(0,100):\n",
        "  random_number.append(random.randint(100,900))\n",
        "\n",
        "odd_number=[]\n",
        "count_odd=0\n",
        "count_even=0\n",
        "count_prime=0\n",
        "even_number=[]\n",
        "prime_number=[]\n",
        "\n",
        "\n",
        "for i in random_number:\n",
        "  if i%2==0:\n",
        "    even_number.append(i)\n",
        "    count_even=count_even+1\n",
        "  else:\n",
        "    odd_number.append(i)\n",
        "    count_odd=count_odd+1\n",
        "\n",
        "#i.\n",
        "print(f\"Even numbers are :{even_number}\")\n",
        "print(f\"Number of even number :{count_even}\")\n",
        "\n",
        "#ii.\n",
        "print(f\"Odd numbers are :{odd_number}\")\n",
        "print(f\"Number of odd number :{count_odd}\")\n",
        "\n",
        "#iii.\n",
        "def isprime(i):\n",
        "  if i==1 or i==2:\n",
        "    return False\n",
        "  for j in range(2,i):\n",
        "    if i%j==0:\n",
        "      return False\n",
        "  return True\n",
        "\n",
        "for i in random_number:\n",
        "  if isprime(i):\n",
        "    prime_number.append(i)\n",
        "    count_prime=count_prime+1\n",
        "\n",
        "print(f\"prime numbers are :{prime_number}\")\n",
        "print(f\"Number of prime number :{count_prime}\")\n"
      ],
      "metadata": {
        "colab": {
          "base_uri": "https://localhost:8080/"
        },
        "id": "PQIsu0lB1Xb7",
        "outputId": "45c13abd-0106-4b5c-c71c-5a1377ef9641"
      },
      "execution_count": 3,
      "outputs": [
        {
          "output_type": "stream",
          "name": "stdout",
          "text": [
            "Even numbers are :[112, 470, 892, 588, 304, 552, 660, 490, 124, 626, 388, 600, 226, 364, 480, 512, 860, 776, 762, 410, 160, 356, 194, 400, 678, 886, 422, 610, 268, 360, 168, 486, 338, 872, 518, 754, 418, 410, 492, 784, 402, 864, 678, 118, 444, 382, 870, 680, 478, 400, 454]\n",
            "Number of even number :51\n",
            "Odd numbers are :[739, 893, 707, 787, 817, 107, 441, 329, 559, 263, 297, 231, 535, 365, 831, 329, 499, 785, 267, 833, 361, 369, 457, 751, 643, 569, 545, 623, 717, 463, 683, 505, 263, 729, 523, 565, 611, 725, 871, 237, 535, 569, 737, 503, 573, 793, 253, 679, 899]\n",
            "Number of odd number :49\n",
            "prime numbers are :[739, 787, 107, 263, 499, 457, 751, 643, 569, 463, 683, 263, 523, 569, 503]\n",
            "Number of prime number :15\n"
          ]
        }
      ]
    },
    {
      "cell_type": "markdown",
      "source": [
        "Question 4:"
      ],
      "metadata": {
        "id": "ILzfmSBk1zrs"
      }
    },
    {
      "cell_type": "code",
      "source": [
        "A = {34, 56, 78, 90}\n",
        "B = {78, 45, 90, 23}\n",
        "\n",
        "# i.\n",
        "union_set = A.union(B)\n",
        "print(f\"Unique scores achieved by both teams: {union_set}\")\n",
        "\n",
        "# ii.\n",
        "intersection_set = A.intersection(B)\n",
        "print(f\"Scores common to both teams: {intersection_set}\")\n",
        "\n",
        "# iii.\n",
        "symmetric_difference_set = A.symmetric_difference(B)\n",
        "print(f\"Scores exclusive to each team: {symmetric_difference_set}\")\n",
        "\n",
        "# iv.\n",
        "is_subset = A.issubset(B)\n",
        "is_superset = B.issuperset(A)\n",
        "print(f\"Team A's scores are a subset of team B: {is_subset}\")\n",
        "print(f\"Team B's scores are a superset of team A: {is_superset}\")\n",
        "\n",
        "# v.\n",
        "X = int(input(\"Enter the score to remove from set A: \"))\n",
        "if X in A:\n",
        "    A.remove(X)\n",
        "    print(f\"Score {X} removed from set A. Updated set A: {A}\")\n",
        "else:\n",
        "    print(f\"Score {X} is not present in set A.\")"
      ],
      "metadata": {
        "colab": {
          "base_uri": "https://localhost:8080/"
        },
        "id": "AoDdcWx313rl",
        "outputId": "1a6a9625-ff56-42f4-aa37-9466aa6809e9"
      },
      "execution_count": 5,
      "outputs": [
        {
          "output_type": "stream",
          "name": "stdout",
          "text": [
            "Unique scores achieved by both teams: {34, 45, 78, 23, 56, 90}\n",
            "Scores common to both teams: {90, 78}\n",
            "Scores exclusive to each team: {34, 45, 23, 56}\n",
            "Team A's scores are a subset of team B: False\n",
            "Team B's scores are a superset of team A: False\n",
            "Enter the score to remove from set A: 34\n",
            "Score 34 removed from set A. Updated set A: {56, 90, 78}\n"
          ]
        }
      ]
    },
    {
      "cell_type": "markdown",
      "source": [
        "Question 5:"
      ],
      "metadata": {
        "id": "CLwaJlZ_2K4l"
      }
    },
    {
      "cell_type": "code",
      "source": [
        "sample_dict={\n",
        "    \"name\":\"kelly\",\n",
        "    \"age\":25,\n",
        "    \"salary\":80000,\n",
        "    \"city\":\"New york\"\n",
        "}\n",
        "sample_dict[\"location\"] = sample_dict[\"city\"]\n",
        "del sample_dict[\"city\"]\n",
        "\n",
        "print(sample_dict)"
      ],
      "metadata": {
        "colab": {
          "base_uri": "https://localhost:8080/"
        },
        "id": "rLlQVDit2Nfw",
        "outputId": "bceca1f0-dbcd-460d-e483-80ece9310032"
      },
      "execution_count": 6,
      "outputs": [
        {
          "output_type": "stream",
          "name": "stdout",
          "text": [
            "{'name': 'kelly', 'age': 25, 'salary': 80000, 'location': 'New york'}\n"
          ]
        }
      ]
    }
  ]
}